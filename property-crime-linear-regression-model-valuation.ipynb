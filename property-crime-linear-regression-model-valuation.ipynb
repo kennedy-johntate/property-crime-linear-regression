{
 "cells": [
  {
   "cell_type": "code",
   "execution_count": 82,
   "metadata": {},
   "outputs": [],
   "source": [
    "import pandas as pd\n",
    "from matplotlib import pyplot as plt\n",
    "import numpy as np\n",
    "from sklearn import linear_model\n",
    "%matplotlib inline\n",
    "pd.options.display.float_format = '{:.3f}'.format\n",
    "\n",
    "# Suppress annoying harmless error.\n",
    "import warnings\n",
    "warnings.filterwarnings(action=\"ignore\", module=\"scipy\", message=\"^internal gelsd\")\n",
    "\n",
    "import xlrd"
   ]
  },
  {
   "cell_type": "code",
   "execution_count": 83,
   "metadata": {},
   "outputs": [],
   "source": [
    "df = pd.read_excel('C:\\\\Users\\\\kenne\\\\Desktop\\\\table_8_offenses_known_to_law_enforcement_new_york_by_city_2013.xls', header=4)\n",
    "\n",
    "# print(df.columns)\n",
    "\n",
    "# df.head(3)"
   ]
  },
  {
   "cell_type": "code",
   "execution_count": 84,
   "metadata": {},
   "outputs": [],
   "source": [
    "df.drop(df[(df.Robbery > 2500)].index, inplace=True)\n",
    "df.drop(df[(df.Population > 2000000)].index, inplace=True)"
   ]
  },
  {
   "cell_type": "code",
   "execution_count": 85,
   "metadata": {},
   "outputs": [
    {
     "data": {
      "text/html": [
       "<div>\n",
       "<style scoped>\n",
       "    .dataframe tbody tr th:only-of-type {\n",
       "        vertical-align: middle;\n",
       "    }\n",
       "\n",
       "    .dataframe tbody tr th {\n",
       "        vertical-align: top;\n",
       "    }\n",
       "\n",
       "    .dataframe thead th {\n",
       "        text-align: right;\n",
       "    }\n",
       "</style>\n",
       "<table border=\"1\" class=\"dataframe\">\n",
       "  <thead>\n",
       "    <tr style=\"text-align: right;\">\n",
       "      <th></th>\n",
       "      <th>City</th>\n",
       "      <th>Population</th>\n",
       "      <th>Violent\n",
       "crime</th>\n",
       "      <th>Murder and\n",
       "nonnegligent\n",
       "manslaughter</th>\n",
       "      <th>Rape\n",
       "(revised\n",
       "definition)1</th>\n",
       "      <th>Rape\n",
       "(legacy\n",
       "definition)2</th>\n",
       "      <th>Robbery</th>\n",
       "      <th>Aggravated\n",
       "assault</th>\n",
       "      <th>Property\n",
       "crime</th>\n",
       "      <th>Burglary</th>\n",
       "      <th>Larceny-\n",
       "theft</th>\n",
       "      <th>Motor\n",
       "vehicle\n",
       "theft</th>\n",
       "      <th>Arson3</th>\n",
       "      <th>Pop_Sqrd</th>\n",
       "      <th>Murder_Cat</th>\n",
       "      <th>Robbery_Cat</th>\n",
       "      <th>Property_Crime</th>\n",
       "    </tr>\n",
       "  </thead>\n",
       "  <tbody>\n",
       "    <tr>\n",
       "      <th>0</th>\n",
       "      <td>Adams Village</td>\n",
       "      <td>1861.000</td>\n",
       "      <td>0.000</td>\n",
       "      <td>0.000</td>\n",
       "      <td>nan</td>\n",
       "      <td>0.000</td>\n",
       "      <td>0.000</td>\n",
       "      <td>0.000</td>\n",
       "      <td>12.000</td>\n",
       "      <td>2.000</td>\n",
       "      <td>10.000</td>\n",
       "      <td>0.000</td>\n",
       "      <td>0.000</td>\n",
       "      <td>3463321.000</td>\n",
       "      <td>0.000</td>\n",
       "      <td>0.000</td>\n",
       "      <td>12.000</td>\n",
       "    </tr>\n",
       "    <tr>\n",
       "      <th>1</th>\n",
       "      <td>Addison Town and Village</td>\n",
       "      <td>2577.000</td>\n",
       "      <td>3.000</td>\n",
       "      <td>0.000</td>\n",
       "      <td>nan</td>\n",
       "      <td>0.000</td>\n",
       "      <td>0.000</td>\n",
       "      <td>3.000</td>\n",
       "      <td>24.000</td>\n",
       "      <td>3.000</td>\n",
       "      <td>20.000</td>\n",
       "      <td>1.000</td>\n",
       "      <td>0.000</td>\n",
       "      <td>6640929.000</td>\n",
       "      <td>0.000</td>\n",
       "      <td>0.000</td>\n",
       "      <td>24.000</td>\n",
       "    </tr>\n",
       "    <tr>\n",
       "      <th>2</th>\n",
       "      <td>Akron Village</td>\n",
       "      <td>2846.000</td>\n",
       "      <td>3.000</td>\n",
       "      <td>0.000</td>\n",
       "      <td>nan</td>\n",
       "      <td>0.000</td>\n",
       "      <td>0.000</td>\n",
       "      <td>3.000</td>\n",
       "      <td>16.000</td>\n",
       "      <td>1.000</td>\n",
       "      <td>15.000</td>\n",
       "      <td>0.000</td>\n",
       "      <td>0.000</td>\n",
       "      <td>8099716.000</td>\n",
       "      <td>0.000</td>\n",
       "      <td>0.000</td>\n",
       "      <td>16.000</td>\n",
       "    </tr>\n",
       "  </tbody>\n",
       "</table>\n",
       "</div>"
      ],
      "text/plain": [
       "                       City  Population  Violent\\ncrime  \\\n",
       "0             Adams Village    1861.000           0.000   \n",
       "1  Addison Town and Village    2577.000           3.000   \n",
       "2             Akron Village    2846.000           3.000   \n",
       "\n",
       "   Murder and\\nnonnegligent\\nmanslaughter  Rape\\n(revised\\ndefinition)1  \\\n",
       "0                                   0.000                           nan   \n",
       "1                                   0.000                           nan   \n",
       "2                                   0.000                           nan   \n",
       "\n",
       "   Rape\\n(legacy\\ndefinition)2  Robbery  Aggravated\\nassault  Property\\ncrime  \\\n",
       "0                        0.000    0.000                0.000           12.000   \n",
       "1                        0.000    0.000                3.000           24.000   \n",
       "2                        0.000    0.000                3.000           16.000   \n",
       "\n",
       "   Burglary  Larceny-\\ntheft  Motor\\nvehicle\\ntheft  Arson3    Pop_Sqrd  \\\n",
       "0     2.000           10.000                  0.000   0.000 3463321.000   \n",
       "1     3.000           20.000                  1.000   0.000 6640929.000   \n",
       "2     1.000           15.000                  0.000   0.000 8099716.000   \n",
       "\n",
       "   Murder_Cat  Robbery_Cat  Property_Crime  \n",
       "0       0.000        0.000          12.000  \n",
       "1       0.000        0.000          24.000  \n",
       "2       0.000        0.000          16.000  "
      ]
     },
     "execution_count": 85,
     "metadata": {},
     "output_type": "execute_result"
    }
   ],
   "source": [
    "df['Pop_Sqrd'] = df['Population'] ** 2\n",
    "df['Murder_Cat'] = df['Murder and\\nnonnegligent\\nmanslaughter'].dropna().map(lambda x: 1 if x > 0 else 0)\n",
    "df['Robbery_Cat'] = df.Robbery.dropna().map(lambda x: 1 if x > 0 else 0)\n",
    "df['Property_Crime'] = df['Property\\ncrime']\n",
    "\n",
    "df.head(3)"
   ]
  },
  {
   "cell_type": "code",
   "execution_count": 86,
   "metadata": {},
   "outputs": [
    {
     "data": {
      "text/html": [
       "<div>\n",
       "<style scoped>\n",
       "    .dataframe tbody tr th:only-of-type {\n",
       "        vertical-align: middle;\n",
       "    }\n",
       "\n",
       "    .dataframe tbody tr th {\n",
       "        vertical-align: top;\n",
       "    }\n",
       "\n",
       "    .dataframe thead th {\n",
       "        text-align: right;\n",
       "    }\n",
       "</style>\n",
       "<table border=\"1\" class=\"dataframe\">\n",
       "  <thead>\n",
       "    <tr style=\"text-align: right;\">\n",
       "      <th></th>\n",
       "      <th>Population</th>\n",
       "      <th>Pop_Sqrd</th>\n",
       "      <th>Murder_Cat</th>\n",
       "      <th>Robbery_Cat</th>\n",
       "      <th>Property_Crime</th>\n",
       "    </tr>\n",
       "  </thead>\n",
       "  <tbody>\n",
       "    <tr>\n",
       "      <th>count</th>\n",
       "      <td>347.000</td>\n",
       "      <td>347.000</td>\n",
       "      <td>347.000</td>\n",
       "      <td>347.000</td>\n",
       "      <td>347.000</td>\n",
       "    </tr>\n",
       "    <tr>\n",
       "      <th>mean</th>\n",
       "      <td>15956.686</td>\n",
       "      <td>985840709.758</td>\n",
       "      <td>0.138</td>\n",
       "      <td>0.599</td>\n",
       "      <td>385.752</td>\n",
       "    </tr>\n",
       "    <tr>\n",
       "      <th>std</th>\n",
       "      <td>27080.219</td>\n",
       "      <td>5067232380.434</td>\n",
       "      <td>0.346</td>\n",
       "      <td>0.491</td>\n",
       "      <td>1034.369</td>\n",
       "    </tr>\n",
       "    <tr>\n",
       "      <th>min</th>\n",
       "      <td>526.000</td>\n",
       "      <td>276676.000</td>\n",
       "      <td>0.000</td>\n",
       "      <td>0.000</td>\n",
       "      <td>0.000</td>\n",
       "    </tr>\n",
       "    <tr>\n",
       "      <th>25%</th>\n",
       "      <td>2997.000</td>\n",
       "      <td>8982153.000</td>\n",
       "      <td>0.000</td>\n",
       "      <td>0.000</td>\n",
       "      <td>40.000</td>\n",
       "    </tr>\n",
       "    <tr>\n",
       "      <th>50%</th>\n",
       "      <td>7187.000</td>\n",
       "      <td>51652969.000</td>\n",
       "      <td>0.000</td>\n",
       "      <td>1.000</td>\n",
       "      <td>112.000</td>\n",
       "    </tr>\n",
       "    <tr>\n",
       "      <th>75%</th>\n",
       "      <td>18160.500</td>\n",
       "      <td>329804222.500</td>\n",
       "      <td>0.000</td>\n",
       "      <td>1.000</td>\n",
       "      <td>340.500</td>\n",
       "    </tr>\n",
       "    <tr>\n",
       "      <th>max</th>\n",
       "      <td>258789.000</td>\n",
       "      <td>66971746521.000</td>\n",
       "      <td>1.000</td>\n",
       "      <td>1.000</td>\n",
       "      <td>12491.000</td>\n",
       "    </tr>\n",
       "  </tbody>\n",
       "</table>\n",
       "</div>"
      ],
      "text/plain": [
       "       Population        Pop_Sqrd  Murder_Cat  Robbery_Cat  Property_Crime\n",
       "count     347.000         347.000     347.000      347.000         347.000\n",
       "mean    15956.686   985840709.758       0.138        0.599         385.752\n",
       "std     27080.219  5067232380.434       0.346        0.491        1034.369\n",
       "min       526.000      276676.000       0.000        0.000           0.000\n",
       "25%      2997.000     8982153.000       0.000        0.000          40.000\n",
       "50%      7187.000    51652969.000       0.000        1.000         112.000\n",
       "75%     18160.500   329804222.500       0.000        1.000         340.500\n",
       "max    258789.000 66971746521.000       1.000        1.000       12491.000"
      ]
     },
     "execution_count": 86,
     "metadata": {},
     "output_type": "execute_result"
    }
   ],
   "source": [
    "data_rdy = df[['Population', 'Pop_Sqrd', 'Murder_Cat', 'Robbery_Cat', 'Property_Crime']].dropna()\n",
    "\n",
    "data_rdy.describe()"
   ]
  },
  {
   "cell_type": "code",
   "execution_count": 87,
   "metadata": {},
   "outputs": [
    {
     "name": "stdout",
     "output_type": "stream",
     "text": [
      "\n",
      "Coefficients: \n",
      " [1.29510871e-02 1.14920528e-07 1.95038666e+02 9.28205845e+01]\n",
      "\n",
      "Intercept: \n",
      " -16.815866321663066\n",
      "\n",
      "R-squared: \n",
      "\n",
      "0.8444937611173492\n"
     ]
    }
   ],
   "source": [
    "#Instantiate and fit the model\n",
    "regr = linear_model.LinearRegression()\n",
    "Y = data_rdy['Property_Crime']\n",
    "X = data_rdy[['Population', 'Pop_Sqrd', 'Murder_Cat', 'Robbery_Cat']]\n",
    "regr.fit(X, Y)\n",
    "\n",
    "#inspect the results\n",
    "print('\\nCoefficients: \\n', regr.coef_)\n",
    "print('\\nIntercept: \\n', regr.intercept_)\n",
    "print('\\nR-squared: \\n')\n",
    "print(regr.score(X, Y))"
   ]
  },
  {
   "cell_type": "markdown",
   "metadata": {},
   "source": [
    "The model where the outcome Property Crime is predicted by the features Population, Population Squared, Murder Category and Robbery Category explains 84.45% of the variance in Property Crime.\n",
    "\n",
    "*************************  Everything above from original model  ****************************"
   ]
  },
  {
   "cell_type": "code",
   "execution_count": 88,
   "metadata": {},
   "outputs": [
    {
     "name": "stdout",
     "output_type": "stream",
     "text": [
      "With 25% Holdout: 0.022988505747126436\n",
      "Testing on Sample: 0.02881844380403458\n"
     ]
    }
   ],
   "source": [
    "# Using Holdout Groups.\n",
    "from sklearn.model_selection import train_test_split\n",
    "\n",
    "from sklearn.naive_bayes import BernoulliNB\n",
    "bnb = BernoulliNB()\n",
    "\n",
    "# Use train_test_split to create the necessary training and test groups.\n",
    "X_train, X_test, y_train, y_test = train_test_split(X, Y, test_size=0.25, random_state=20)\n",
    "\n",
    "print('With 25% Holdout: ' + str(bnb.fit(X_train, y_train).score(X_test, y_test)))\n",
    "print('Testing on Sample: ' + str(bnb.fit(X, Y).score(X, Y)))"
   ]
  },
  {
   "cell_type": "code",
   "execution_count": 89,
   "metadata": {},
   "outputs": [
    {
     "name": "stdout",
     "output_type": "stream",
     "text": [
      "Accuracy of Test Data: 0.832811055814184\n",
      "Cross Validation Scores: [0.59764685 0.90600953 0.6613675 ]\n"
     ]
    }
   ],
   "source": [
    "# Using Cross Validation.\n",
    "from sklearn import cross_validation\n",
    "from sklearn import model_selection\n",
    "import statsmodels.formula.api as smf\n",
    "from statsmodels.sandbox.regression.predstd import wls_prediction_std\n",
    "\n",
    "# Use train_test_split to create the necessary training and test groups.\n",
    "X_train, X_test, y_train, y_test = cross_validation.train_test_split(X, Y, test_size=0.25, random_state=20)\n",
    "regr.fit(X_train, y_train)\n",
    "y_pred = regr.predict(X_test)\n",
    "accuracy = regr.score(X_test, y_test)\n",
    "print('Accuracy of Test Data:', accuracy)\n",
    "\n",
    "scores = model_selection.cross_val_score(regr, X_train, y_train, cv=3)\n",
    "print('Cross Validation Scores:', scores)"
   ]
  },
  {
   "cell_type": "code",
   "execution_count": 90,
   "metadata": {},
   "outputs": [],
   "source": [
    "# Writing out the model formula.\n",
    "# Dependent variable on the right, independent variables on the left.\n",
    "# Using a ~ to represent an '=' from the functional form.\n",
    "linear_formula = 'Property_Crime ~ Population+Pop_Sqrd+Murder_Cat+Robbery_Cat'\n",
    "\n",
    "# Fitting model to our data usign the formula.\n",
    "lm = smf.ols(formula=linear_formula, data=data_rdy).fit()"
   ]
  },
  {
   "cell_type": "code",
   "execution_count": 91,
   "metadata": {},
   "outputs": [
    {
     "data": {
      "text/plain": [
       "Intercept     -16.816\n",
       "Population      0.013\n",
       "Pop_Sqrd        0.000\n",
       "Murder_Cat    195.039\n",
       "Robbery_Cat    92.821\n",
       "dtype: float64"
      ]
     },
     "execution_count": 91,
     "metadata": {},
     "output_type": "execute_result"
    }
   ],
   "source": [
    "# Looking at the coefficients of our model.\n",
    "lm.params"
   ]
  },
  {
   "cell_type": "code",
   "execution_count": 92,
   "metadata": {},
   "outputs": [
    {
     "data": {
      "text/plain": [
       "Intercept     0.641\n",
       "Population    0.000\n",
       "Pop_Sqrd      0.000\n",
       "Murder_Cat    0.011\n",
       "Robbery_Cat   0.072\n",
       "dtype: float64"
      ]
     },
     "execution_count": 92,
     "metadata": {},
     "output_type": "execute_result"
    }
   ],
   "source": [
    "# Looking at the p-values as a significance test for each of the coefficients above.\n",
    "lm.pvalues"
   ]
  },
  {
   "cell_type": "code",
   "execution_count": 93,
   "metadata": {},
   "outputs": [
    {
     "data": {
      "text/plain": [
       "0.8444937611173492"
      ]
     },
     "execution_count": 93,
     "metadata": {},
     "output_type": "execute_result"
    }
   ],
   "source": [
    "# Looking at r-squared.\n",
    "lm.rsquared"
   ]
  },
  {
   "cell_type": "markdown",
   "metadata": {},
   "source": [
    "Population Squared has a coefficient score of zero and a p-value score of zero as well. I will remove this feature from the model since it appears there is no effect."
   ]
  },
  {
   "cell_type": "code",
   "execution_count": 94,
   "metadata": {},
   "outputs": [],
   "source": [
    "linear_formula = 'Property_Crime ~ Population+Murder_Cat+Robbery_Cat'\n",
    "\n",
    "lm = smf.ols(formula=linear_formula, data=data_rdy).fit()"
   ]
  },
  {
   "cell_type": "code",
   "execution_count": 95,
   "metadata": {},
   "outputs": [
    {
     "data": {
      "text/plain": [
       "Intercept     -108.423\n",
       "Population       0.034\n",
       "Murder_Cat      14.347\n",
       "Robbery_Cat    -94.252\n",
       "dtype: float64"
      ]
     },
     "execution_count": 95,
     "metadata": {},
     "output_type": "execute_result"
    }
   ],
   "source": [
    "lm.params"
   ]
  },
  {
   "cell_type": "code",
   "execution_count": 96,
   "metadata": {},
   "outputs": [
    {
     "data": {
      "text/plain": [
       "Intercept     0.008\n",
       "Population    0.000\n",
       "Murder_Cat    0.869\n",
       "Robbery_Cat   0.096\n",
       "dtype: float64"
      ]
     },
     "execution_count": 96,
     "metadata": {},
     "output_type": "execute_result"
    }
   ],
   "source": [
    "lm.pvalues"
   ]
  },
  {
   "cell_type": "code",
   "execution_count": 97,
   "metadata": {},
   "outputs": [
    {
     "data": {
      "text/plain": [
       "0.7889428000907827"
      ]
     },
     "execution_count": 97,
     "metadata": {},
     "output_type": "execute_result"
    }
   ],
   "source": [
    "lm.rsquared"
   ]
  },
  {
   "cell_type": "markdown",
   "metadata": {},
   "source": [
    "Removing Population Squared actually reduced the r-squared score. I am going to try removing both Population features to view the impact on r-squared."
   ]
  },
  {
   "cell_type": "code",
   "execution_count": 98,
   "metadata": {},
   "outputs": [],
   "source": [
    "linear_formula = 'Property_Crime ~ Murder_Cat+Robbery_Cat'\n",
    "\n",
    "lm = smf.ols(formula=linear_formula, data=data_rdy).fit()"
   ]
  },
  {
   "cell_type": "code",
   "execution_count": 99,
   "metadata": {},
   "outputs": [
    {
     "data": {
      "text/plain": [
       "Intercept       40.100\n",
       "Murder_Cat    1194.064\n",
       "Robbery_Cat    301.087\n",
       "dtype: float64"
      ]
     },
     "execution_count": 99,
     "metadata": {},
     "output_type": "execute_result"
    }
   ],
   "source": [
    "lm.params"
   ]
  },
  {
   "cell_type": "code",
   "execution_count": 100,
   "metadata": {},
   "outputs": [
    {
     "data": {
      "text/plain": [
       "Intercept     0.607\n",
       "Murder_Cat    0.000\n",
       "Robbery_Cat   0.005\n",
       "dtype: float64"
      ]
     },
     "execution_count": 100,
     "metadata": {},
     "output_type": "execute_result"
    }
   ],
   "source": [
    "lm.pvalues"
   ]
  },
  {
   "cell_type": "code",
   "execution_count": 101,
   "metadata": {},
   "outputs": [
    {
     "data": {
      "text/plain": [
       "0.21510604824907786"
      ]
     },
     "execution_count": 101,
     "metadata": {},
     "output_type": "execute_result"
    }
   ],
   "source": [
    "lm.rsquared"
   ]
  },
  {
   "cell_type": "markdown",
   "metadata": {},
   "source": [
    "Removing both Population features significantly reduces our r-square score. As a last trial, I am going to only include the Population and Robbery Category features."
   ]
  },
  {
   "cell_type": "code",
   "execution_count": 102,
   "metadata": {},
   "outputs": [],
   "source": [
    "linear_formula = 'Property_Crime ~ Population+Robbery_Cat'\n",
    "\n",
    "lm = smf.ols(formula=linear_formula, data=data_rdy).fit()"
   ]
  },
  {
   "cell_type": "code",
   "execution_count": 103,
   "metadata": {},
   "outputs": [
    {
     "data": {
      "text/plain": [
       "Intercept     -108.696\n",
       "Population       0.034\n",
       "Robbery_Cat    -92.676\n",
       "dtype: float64"
      ]
     },
     "execution_count": 103,
     "metadata": {},
     "output_type": "execute_result"
    }
   ],
   "source": [
    "lm.params"
   ]
  },
  {
   "cell_type": "code",
   "execution_count": 104,
   "metadata": {},
   "outputs": [
    {
     "data": {
      "text/plain": [
       "Intercept     0.008\n",
       "Population    0.000\n",
       "Robbery_Cat   0.097\n",
       "dtype: float64"
      ]
     },
     "execution_count": 104,
     "metadata": {},
     "output_type": "execute_result"
    }
   ],
   "source": [
    "lm.pvalues"
   ]
  },
  {
   "cell_type": "code",
   "execution_count": 105,
   "metadata": {},
   "outputs": [
    {
     "data": {
      "text/plain": [
       "0.7889261062753921"
      ]
     },
     "execution_count": 105,
     "metadata": {},
     "output_type": "execute_result"
    }
   ],
   "source": [
    "lm.rsquared"
   ]
  },
  {
   "cell_type": "markdown",
   "metadata": {},
   "source": [
    "The model with all features produces the highest r-squared score."
   ]
  },
  {
   "cell_type": "code",
   "execution_count": 110,
   "metadata": {},
   "outputs": [],
   "source": [
    "# Using 2014 data to validate the model.\n",
    "df_2014 = pd.read_excel('C:\\\\Users\\\\kenne\\\\Desktop\\\\Table_8_Offenses_Known_to_Law_Enforcement_by_New_York_by_City_2014.xls', header=4)\n",
    "\n",
    "# df_2014.head(3)"
   ]
  },
  {
   "cell_type": "code",
   "execution_count": 109,
   "metadata": {},
   "outputs": [
    {
     "data": {
      "text/html": [
       "<div>\n",
       "<style scoped>\n",
       "    .dataframe tbody tr th:only-of-type {\n",
       "        vertical-align: middle;\n",
       "    }\n",
       "\n",
       "    .dataframe tbody tr th {\n",
       "        vertical-align: top;\n",
       "    }\n",
       "\n",
       "    .dataframe thead th {\n",
       "        text-align: right;\n",
       "    }\n",
       "</style>\n",
       "<table border=\"1\" class=\"dataframe\">\n",
       "  <thead>\n",
       "    <tr style=\"text-align: right;\">\n",
       "      <th></th>\n",
       "      <th>Population</th>\n",
       "      <th>Violent\n",
       "crime</th>\n",
       "      <th>Murder and\n",
       "nonnegligent\n",
       "manslaughter</th>\n",
       "      <th>Rape\n",
       "(revised\n",
       "definition)1</th>\n",
       "      <th>Rape\n",
       "(legacy\n",
       "definition)2</th>\n",
       "      <th>Robbery</th>\n",
       "      <th>Aggravated\n",
       "assault</th>\n",
       "      <th>Property\n",
       "crime</th>\n",
       "      <th>Burglary</th>\n",
       "      <th>Larceny-\n",
       "theft</th>\n",
       "      <th>Motor\n",
       "vehicle\n",
       "theft</th>\n",
       "      <th>Arson3</th>\n",
       "    </tr>\n",
       "  </thead>\n",
       "  <tbody>\n",
       "    <tr>\n",
       "      <th>count</th>\n",
       "      <td>369.000</td>\n",
       "      <td>369.000</td>\n",
       "      <td>369.000</td>\n",
       "      <td>227.000</td>\n",
       "      <td>142.000</td>\n",
       "      <td>369.000</td>\n",
       "      <td>369.000</td>\n",
       "      <td>368.000</td>\n",
       "      <td>369.000</td>\n",
       "      <td>368.000</td>\n",
       "      <td>369.000</td>\n",
       "      <td>365.000</td>\n",
       "    </tr>\n",
       "    <tr>\n",
       "      <th>mean</th>\n",
       "      <td>37814.824</td>\n",
       "      <td>183.691</td>\n",
       "      <td>1.453</td>\n",
       "      <td>15.555</td>\n",
       "      <td>0.007</td>\n",
       "      <td>60.661</td>\n",
       "      <td>112.005</td>\n",
       "      <td>698.361</td>\n",
       "      <td>100.900</td>\n",
       "      <td>562.791</td>\n",
       "      <td>34.317</td>\n",
       "      <td>1.425</td>\n",
       "    </tr>\n",
       "    <tr>\n",
       "      <th>std</th>\n",
       "      <td>441159.058</td>\n",
       "      <td>2638.842</td>\n",
       "      <td>17.694</td>\n",
       "      <td>146.261</td>\n",
       "      <td>0.084</td>\n",
       "      <td>866.481</td>\n",
       "      <td>1640.515</td>\n",
       "      <td>7123.614</td>\n",
       "      <td>855.103</td>\n",
       "      <td>5869.850</td>\n",
       "      <td>406.957</td>\n",
       "      <td>7.995</td>\n",
       "    </tr>\n",
       "    <tr>\n",
       "      <th>min</th>\n",
       "      <td>79.000</td>\n",
       "      <td>0.000</td>\n",
       "      <td>0.000</td>\n",
       "      <td>0.000</td>\n",
       "      <td>0.000</td>\n",
       "      <td>0.000</td>\n",
       "      <td>0.000</td>\n",
       "      <td>0.000</td>\n",
       "      <td>0.000</td>\n",
       "      <td>0.000</td>\n",
       "      <td>0.000</td>\n",
       "      <td>0.000</td>\n",
       "    </tr>\n",
       "    <tr>\n",
       "      <th>25%</th>\n",
       "      <td>2631.000</td>\n",
       "      <td>1.000</td>\n",
       "      <td>0.000</td>\n",
       "      <td>0.000</td>\n",
       "      <td>0.000</td>\n",
       "      <td>0.000</td>\n",
       "      <td>0.000</td>\n",
       "      <td>25.000</td>\n",
       "      <td>4.000</td>\n",
       "      <td>20.000</td>\n",
       "      <td>0.000</td>\n",
       "      <td>0.000</td>\n",
       "    </tr>\n",
       "    <tr>\n",
       "      <th>50%</th>\n",
       "      <td>6581.000</td>\n",
       "      <td>5.000</td>\n",
       "      <td>0.000</td>\n",
       "      <td>1.000</td>\n",
       "      <td>0.000</td>\n",
       "      <td>1.000</td>\n",
       "      <td>3.000</td>\n",
       "      <td>76.000</td>\n",
       "      <td>12.000</td>\n",
       "      <td>60.500</td>\n",
       "      <td>2.000</td>\n",
       "      <td>0.000</td>\n",
       "    </tr>\n",
       "    <tr>\n",
       "      <th>75%</th>\n",
       "      <td>15408.000</td>\n",
       "      <td>18.000</td>\n",
       "      <td>0.000</td>\n",
       "      <td>4.000</td>\n",
       "      <td>0.000</td>\n",
       "      <td>4.000</td>\n",
       "      <td>12.000</td>\n",
       "      <td>271.500</td>\n",
       "      <td>39.000</td>\n",
       "      <td>228.500</td>\n",
       "      <td>6.000</td>\n",
       "      <td>1.000</td>\n",
       "    </tr>\n",
       "    <tr>\n",
       "      <th>max</th>\n",
       "      <td>8473938.000</td>\n",
       "      <td>50564.000</td>\n",
       "      <td>333.000</td>\n",
       "      <td>2190.000</td>\n",
       "      <td>1.000</td>\n",
       "      <td>16581.000</td>\n",
       "      <td>31460.000</td>\n",
       "      <td>135747.000</td>\n",
       "      <td>15916.000</td>\n",
       "      <td>112107.000</td>\n",
       "      <td>7724.000</td>\n",
       "      <td>135.000</td>\n",
       "    </tr>\n",
       "  </tbody>\n",
       "</table>\n",
       "</div>"
      ],
      "text/plain": [
       "       Population  Violent\\ncrime  Murder and\\nnonnegligent\\nmanslaughter  \\\n",
       "count     369.000         369.000                                 369.000   \n",
       "mean    37814.824         183.691                                   1.453   \n",
       "std    441159.058        2638.842                                  17.694   \n",
       "min        79.000           0.000                                   0.000   \n",
       "25%      2631.000           1.000                                   0.000   \n",
       "50%      6581.000           5.000                                   0.000   \n",
       "75%     15408.000          18.000                                   0.000   \n",
       "max   8473938.000       50564.000                                 333.000   \n",
       "\n",
       "       Rape\\n(revised\\ndefinition)1  Rape\\n(legacy\\ndefinition)2   Robbery  \\\n",
       "count                       227.000                      142.000   369.000   \n",
       "mean                         15.555                        0.007    60.661   \n",
       "std                         146.261                        0.084   866.481   \n",
       "min                           0.000                        0.000     0.000   \n",
       "25%                           0.000                        0.000     0.000   \n",
       "50%                           1.000                        0.000     1.000   \n",
       "75%                           4.000                        0.000     4.000   \n",
       "max                        2190.000                        1.000 16581.000   \n",
       "\n",
       "       Aggravated\\nassault  Property\\ncrime  Burglary  Larceny-\\ntheft  \\\n",
       "count              369.000          368.000   369.000          368.000   \n",
       "mean               112.005          698.361   100.900          562.791   \n",
       "std               1640.515         7123.614   855.103         5869.850   \n",
       "min                  0.000            0.000     0.000            0.000   \n",
       "25%                  0.000           25.000     4.000           20.000   \n",
       "50%                  3.000           76.000    12.000           60.500   \n",
       "75%                 12.000          271.500    39.000          228.500   \n",
       "max              31460.000       135747.000 15916.000       112107.000   \n",
       "\n",
       "       Motor\\nvehicle\\ntheft  Arson3  \n",
       "count                369.000 365.000  \n",
       "mean                  34.317   1.425  \n",
       "std                  406.957   7.995  \n",
       "min                    0.000   0.000  \n",
       "25%                    0.000   0.000  \n",
       "50%                    2.000   0.000  \n",
       "75%                    6.000   1.000  \n",
       "max                 7724.000 135.000  "
      ]
     },
     "execution_count": 109,
     "metadata": {},
     "output_type": "execute_result"
    }
   ],
   "source": [
    "df_2014.describe()"
   ]
  },
  {
   "cell_type": "code",
   "execution_count": 112,
   "metadata": {},
   "outputs": [
    {
     "data": {
      "image/png": "[encoded data removed]",
      "text/plain": [
       "<Figure size 360x720 with 1 Axes>"
      ]
     },
     "metadata": {},
     "output_type": "display_data"
    }
   ],
   "source": [
    "# Using same steps as with 2013 file to set-up file for use in our model.\n",
    "\n",
    "plt.figure(figsize=(5, 10))\n",
    "df_2014.boxplot(column=['Murder and\\nnonnegligent\\nmanslaughter', 'Robbery'])\n",
    "plt.show()"
   ]
  },
  {
   "cell_type": "code",
   "execution_count": 113,
   "metadata": {},
   "outputs": [
    {
     "data": {
      "image/png": "[encoded data removed]",
      "text/plain": [
       "<Figure size 360x720 with 1 Axes>"
      ]
     },
     "metadata": {},
     "output_type": "display_data"
    }
   ],
   "source": [
    "plt.figure(figsize=(5, 10))\n",
    "df_2014.boxplot(column=['Population'])\n",
    "plt.show()"
   ]
  },
  {
   "cell_type": "code",
   "execution_count": 116,
   "metadata": {},
   "outputs": [],
   "source": [
    "df_2014.drop(df_2014[(df_2014.Robbery > 2500)].index, inplace=True)\n",
    "df_2014.drop(df_2014[(df_2014.Population > 2000000)].index, inplace=True)"
   ]
  },
  {
   "cell_type": "code",
   "execution_count": 117,
   "metadata": {},
   "outputs": [
    {
     "data": {
      "text/html": [
       "<div>\n",
       "<style scoped>\n",
       "    .dataframe tbody tr th:only-of-type {\n",
       "        vertical-align: middle;\n",
       "    }\n",
       "\n",
       "    .dataframe tbody tr th {\n",
       "        vertical-align: top;\n",
       "    }\n",
       "\n",
       "    .dataframe thead th {\n",
       "        text-align: right;\n",
       "    }\n",
       "</style>\n",
       "<table border=\"1\" class=\"dataframe\">\n",
       "  <thead>\n",
       "    <tr style=\"text-align: right;\">\n",
       "      <th></th>\n",
       "      <th>City</th>\n",
       "      <th>Population</th>\n",
       "      <th>Violent\n",
       "crime</th>\n",
       "      <th>Murder and\n",
       "nonnegligent\n",
       "manslaughter</th>\n",
       "      <th>Rape\n",
       "(revised\n",
       "definition)1</th>\n",
       "      <th>Rape\n",
       "(legacy\n",
       "definition)2</th>\n",
       "      <th>Robbery</th>\n",
       "      <th>Aggravated\n",
       "assault</th>\n",
       "      <th>Property\n",
       "crime</th>\n",
       "      <th>Burglary</th>\n",
       "      <th>Larceny-\n",
       "theft</th>\n",
       "      <th>Motor\n",
       "vehicle\n",
       "theft</th>\n",
       "      <th>Arson3</th>\n",
       "      <th>Pop_Sqrd</th>\n",
       "      <th>Murder_Cat</th>\n",
       "      <th>Robbery_Cat</th>\n",
       "      <th>Property_Crime</th>\n",
       "    </tr>\n",
       "  </thead>\n",
       "  <tbody>\n",
       "    <tr>\n",
       "      <th>0</th>\n",
       "      <td>Adams Village</td>\n",
       "      <td>1851.000</td>\n",
       "      <td>0.000</td>\n",
       "      <td>0.000</td>\n",
       "      <td>nan</td>\n",
       "      <td>0.000</td>\n",
       "      <td>0.000</td>\n",
       "      <td>0.000</td>\n",
       "      <td>11.000</td>\n",
       "      <td>1.000</td>\n",
       "      <td>10.000</td>\n",
       "      <td>0.000</td>\n",
       "      <td>0.000</td>\n",
       "      <td>3426201.000</td>\n",
       "      <td>0.000</td>\n",
       "      <td>0.000</td>\n",
       "      <td>11.000</td>\n",
       "    </tr>\n",
       "    <tr>\n",
       "      <th>1</th>\n",
       "      <td>Addison Town and Village</td>\n",
       "      <td>2568.000</td>\n",
       "      <td>2.000</td>\n",
       "      <td>0.000</td>\n",
       "      <td>nan</td>\n",
       "      <td>0.000</td>\n",
       "      <td>1.000</td>\n",
       "      <td>1.000</td>\n",
       "      <td>49.000</td>\n",
       "      <td>1.000</td>\n",
       "      <td>47.000</td>\n",
       "      <td>1.000</td>\n",
       "      <td>0.000</td>\n",
       "      <td>6594624.000</td>\n",
       "      <td>0.000</td>\n",
       "      <td>1.000</td>\n",
       "      <td>49.000</td>\n",
       "    </tr>\n",
       "    <tr>\n",
       "      <th>2</th>\n",
       "      <td>Afton Village4</td>\n",
       "      <td>820.000</td>\n",
       "      <td>0.000</td>\n",
       "      <td>0.000</td>\n",
       "      <td>0.000</td>\n",
       "      <td>nan</td>\n",
       "      <td>0.000</td>\n",
       "      <td>0.000</td>\n",
       "      <td>1.000</td>\n",
       "      <td>0.000</td>\n",
       "      <td>1.000</td>\n",
       "      <td>0.000</td>\n",
       "      <td>0.000</td>\n",
       "      <td>672400.000</td>\n",
       "      <td>0.000</td>\n",
       "      <td>0.000</td>\n",
       "      <td>1.000</td>\n",
       "    </tr>\n",
       "  </tbody>\n",
       "</table>\n",
       "</div>"
      ],
      "text/plain": [
       "                       City  Population  Violent\\ncrime  \\\n",
       "0             Adams Village    1851.000           0.000   \n",
       "1  Addison Town and Village    2568.000           2.000   \n",
       "2            Afton Village4     820.000           0.000   \n",
       "\n",
       "   Murder and\\nnonnegligent\\nmanslaughter  Rape\\n(revised\\ndefinition)1  \\\n",
       "0                                   0.000                           nan   \n",
       "1                                   0.000                           nan   \n",
       "2                                   0.000                         0.000   \n",
       "\n",
       "   Rape\\n(legacy\\ndefinition)2  Robbery  Aggravated\\nassault  Property\\ncrime  \\\n",
       "0                        0.000    0.000                0.000           11.000   \n",
       "1                        0.000    1.000                1.000           49.000   \n",
       "2                          nan    0.000                0.000            1.000   \n",
       "\n",
       "   Burglary  Larceny-\\ntheft  Motor\\nvehicle\\ntheft  Arson3    Pop_Sqrd  \\\n",
       "0     1.000           10.000                  0.000   0.000 3426201.000   \n",
       "1     1.000           47.000                  1.000   0.000 6594624.000   \n",
       "2     0.000            1.000                  0.000   0.000  672400.000   \n",
       "\n",
       "   Murder_Cat  Robbery_Cat  Property_Crime  \n",
       "0       0.000        0.000          11.000  \n",
       "1       0.000        1.000          49.000  \n",
       "2       0.000        0.000           1.000  "
      ]
     },
     "execution_count": 117,
     "metadata": {},
     "output_type": "execute_result"
    }
   ],
   "source": [
    "df_2014['Pop_Sqrd'] = df_2014['Population'] ** 2\n",
    "df_2014['Murder_Cat'] = df_2014['Murder and\\nnonnegligent\\nmanslaughter'].dropna().map(lambda x: 1 if x > 0 else 0)\n",
    "df_2014['Robbery_Cat'] = df_2014.Robbery.dropna().map(lambda x: 1 if x > 0 else 0)\n",
    "df_2014['Property_Crime'] = df_2014['Property\\ncrime']\n",
    "\n",
    "df_2014.head(3)"
   ]
  },
  {
   "cell_type": "code",
   "execution_count": 118,
   "metadata": {},
   "outputs": [
    {
     "data": {
      "text/html": [
       "<div>\n",
       "<style scoped>\n",
       "    .dataframe tbody tr th:only-of-type {\n",
       "        vertical-align: middle;\n",
       "    }\n",
       "\n",
       "    .dataframe tbody tr th {\n",
       "        vertical-align: top;\n",
       "    }\n",
       "\n",
       "    .dataframe thead th {\n",
       "        text-align: right;\n",
       "    }\n",
       "</style>\n",
       "<table border=\"1\" class=\"dataframe\">\n",
       "  <thead>\n",
       "    <tr style=\"text-align: right;\">\n",
       "      <th></th>\n",
       "      <th>Population</th>\n",
       "      <th>Pop_Sqrd</th>\n",
       "      <th>Murder_Cat</th>\n",
       "      <th>Robbery_Cat</th>\n",
       "      <th>Property_Crime</th>\n",
       "    </tr>\n",
       "  </thead>\n",
       "  <tbody>\n",
       "    <tr>\n",
       "      <th>count</th>\n",
       "      <td>367.000</td>\n",
       "      <td>367.000</td>\n",
       "      <td>367.000</td>\n",
       "      <td>367.000</td>\n",
       "      <td>367.000</td>\n",
       "    </tr>\n",
       "    <tr>\n",
       "      <th>mean</th>\n",
       "      <td>14901.888</td>\n",
       "      <td>927952566.395</td>\n",
       "      <td>0.136</td>\n",
       "      <td>0.529</td>\n",
       "      <td>330.381</td>\n",
       "    </tr>\n",
       "    <tr>\n",
       "      <th>std</th>\n",
       "      <td>26604.792</td>\n",
       "      <td>4943336598.451</td>\n",
       "      <td>0.344</td>\n",
       "      <td>0.500</td>\n",
       "      <td>958.006</td>\n",
       "    </tr>\n",
       "    <tr>\n",
       "      <th>min</th>\n",
       "      <td>79.000</td>\n",
       "      <td>6241.000</td>\n",
       "      <td>0.000</td>\n",
       "      <td>0.000</td>\n",
       "      <td>0.000</td>\n",
       "    </tr>\n",
       "    <tr>\n",
       "      <th>25%</th>\n",
       "      <td>2625.500</td>\n",
       "      <td>6893280.500</td>\n",
       "      <td>0.000</td>\n",
       "      <td>0.000</td>\n",
       "      <td>25.000</td>\n",
       "    </tr>\n",
       "    <tr>\n",
       "      <th>50%</th>\n",
       "      <td>6548.000</td>\n",
       "      <td>42876304.000</td>\n",
       "      <td>0.000</td>\n",
       "      <td>1.000</td>\n",
       "      <td>75.000</td>\n",
       "    </tr>\n",
       "    <tr>\n",
       "      <th>75%</th>\n",
       "      <td>15325.000</td>\n",
       "      <td>234862514.000</td>\n",
       "      <td>0.000</td>\n",
       "      <td>1.000</td>\n",
       "      <td>269.000</td>\n",
       "    </tr>\n",
       "    <tr>\n",
       "      <th>max</th>\n",
       "      <td>258419.000</td>\n",
       "      <td>66780379561.000</td>\n",
       "      <td>1.000</td>\n",
       "      <td>1.000</td>\n",
       "      <td>12449.000</td>\n",
       "    </tr>\n",
       "  </tbody>\n",
       "</table>\n",
       "</div>"
      ],
      "text/plain": [
       "       Population        Pop_Sqrd  Murder_Cat  Robbery_Cat  Property_Crime\n",
       "count     367.000         367.000     367.000      367.000         367.000\n",
       "mean    14901.888   927952566.395       0.136        0.529         330.381\n",
       "std     26604.792  4943336598.451       0.344        0.500         958.006\n",
       "min        79.000        6241.000       0.000        0.000           0.000\n",
       "25%      2625.500     6893280.500       0.000        0.000          25.000\n",
       "50%      6548.000    42876304.000       0.000        1.000          75.000\n",
       "75%     15325.000   234862514.000       0.000        1.000         269.000\n",
       "max    258419.000 66780379561.000       1.000        1.000       12449.000"
      ]
     },
     "execution_count": 118,
     "metadata": {},
     "output_type": "execute_result"
    }
   ],
   "source": [
    "data_rdy2 = df_2014[['Population', 'Pop_Sqrd', 'Murder_Cat', 'Robbery_Cat', 'Property_Crime']].dropna()\n",
    "\n",
    "data_rdy2.describe()"
   ]
  },
  {
   "cell_type": "code",
   "execution_count": 119,
   "metadata": {},
   "outputs": [
    {
     "name": "stdout",
     "output_type": "stream",
     "text": [
      "\n",
      "Coefficients: \n",
      " [9.51829747e-03 1.18331259e-07 2.77208015e+02 9.86630673e+01]\n",
      "\n",
      "Intercept: \n",
      " -11.186008254707986\n",
      "\n",
      "R-squared: \n",
      "\n",
      "0.8399435640661663\n"
     ]
    }
   ],
   "source": [
    "#Instantiate and fit the model\n",
    "regr = linear_model.LinearRegression()\n",
    "Y = data_rdy2['Property_Crime']\n",
    "X = data_rdy2[['Population', 'Pop_Sqrd', 'Murder_Cat', 'Robbery_Cat']]\n",
    "regr.fit(X, Y)\n",
    "\n",
    "#inspect the results\n",
    "print('\\nCoefficients: \\n', regr.coef_)\n",
    "print('\\nIntercept: \\n', regr.intercept_)\n",
    "print('\\nR-squared: \\n')\n",
    "print(regr.score(X, Y))"
   ]
  },
  {
   "cell_type": "code",
   "execution_count": 120,
   "metadata": {},
   "outputs": [],
   "source": [
    "# Writing out the model formula.\n",
    "# Dependent variable on the right, independent variables on the left.\n",
    "# Using a ~ to represent an '=' from the functional form.\n",
    "linear_formula = 'Property_Crime ~ Population+Pop_Sqrd+Murder_Cat+Robbery_Cat'\n",
    "\n",
    "# Fitting model to our data usign the formula.\n",
    "lm = smf.ols(formula=linear_formula, data=data_rdy2).fit()"
   ]
  },
  {
   "cell_type": "code",
   "execution_count": 121,
   "metadata": {},
   "outputs": [
    {
     "data": {
      "text/plain": [
       "Intercept     -11.186\n",
       "Population      0.010\n",
       "Pop_Sqrd        0.000\n",
       "Murder_Cat    277.208\n",
       "Robbery_Cat    98.663\n",
       "dtype: float64"
      ]
     },
     "execution_count": 121,
     "metadata": {},
     "output_type": "execute_result"
    }
   ],
   "source": [
    "lm.params"
   ]
  },
  {
   "cell_type": "code",
   "execution_count": 122,
   "metadata": {},
   "outputs": [
    {
     "data": {
      "text/plain": [
       "Intercept     0.713\n",
       "Population    0.000\n",
       "Pop_Sqrd      0.000\n",
       "Murder_Cat    0.000\n",
       "Robbery_Cat   0.038\n",
       "dtype: float64"
      ]
     },
     "execution_count": 122,
     "metadata": {},
     "output_type": "execute_result"
    }
   ],
   "source": [
    "lm.pvalues"
   ]
  },
  {
   "cell_type": "code",
   "execution_count": 123,
   "metadata": {},
   "outputs": [
    {
     "data": {
      "text/plain": [
       "0.8399435640661663"
      ]
     },
     "execution_count": 123,
     "metadata": {},
     "output_type": "execute_result"
    }
   ],
   "source": [
    "lm.rsquared"
   ]
  },
  {
   "cell_type": "markdown",
   "metadata": {},
   "source": [
    "Based on this new data, the original linear regression model with the full set of features predicts property crime slightly better than 2014."
   ]
  }
 ],
 "metadata": {
  "kernelspec": {
   "display_name": "Python 3",
   "language": "python",
   "name": "python3"
  },
  "language_info": {
   "codemirror_mode": {
    "name": "ipython",
    "version": 3
   },
   "file_extension": ".py",
   "mimetype": "text/x-python",
   "name": "python",
   "nbconvert_exporter": "python",
   "pygments_lexer": "ipython3",
   "version": "3.5.5"
  }
 },
 "nbformat": 4,
 "nbformat_minor": 2
}
